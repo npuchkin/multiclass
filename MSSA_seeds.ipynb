{
 "cells": [
  {
   "cell_type": "code",
   "execution_count": 1,
   "metadata": {
    "collapsed": true
   },
   "outputs": [],
   "source": [
    "import numpy as np\n",
    "import matplotlib.pyplot as plt\n",
    "from mssa import MSSA\n",
    "import pandas as pd\n",
    "from sklearn.preprocessing import scale\n",
    "\n",
    "%matplotlib inline"
   ]
  },
  {
   "cell_type": "code",
   "execution_count": 2,
   "metadata": {
    "collapsed": true
   },
   "outputs": [],
   "source": [
    "np.random.seed(1)"
   ]
  },
  {
   "cell_type": "code",
   "execution_count": 3,
   "metadata": {
    "collapsed": true
   },
   "outputs": [],
   "source": [
    "gaussian = lambda x : np.exp(-0.5 * x**2)\n",
    "rectangular = lambda x : 1 * (x < 1 + 1e-6)\n",
    "epanechnikov = lambda x : np.maximum(1 - x**2, 0)\n",
    "epanechnikov_like = lambda x : (1 - 0.5 * x**2) * (x <=1 )"
   ]
  },
  {
   "cell_type": "code",
   "execution_count": 4,
   "metadata": {
    "collapsed": false
   },
   "outputs": [
    {
     "name": "stdout",
     "output_type": "stream",
     "text": [
      "Features shape: (210, 6)\n",
      "Labels shape: (210,) , 3 different classes\n"
     ]
    }
   ],
   "source": [
    "# Create a multiclass dataset\n",
    "data = pd.read_table('data/seeds.txt', sep='\\t', header=None, index_col=0)\n",
    "data = data.sample(frac=1)\n",
    "\n",
    "X = data.iloc[:, :-1]\n",
    "X = np.array(X)\n",
    "X = scale(X)\n",
    "\n",
    "y = data.iloc[:, -1]\n",
    "y = np.array(y)\n",
    "\n",
    "sample_size = X.shape[0]\n",
    "# Define the number of classes\n",
    "classes = np.unique(y)\n",
    "n_classes = classes.shape[0]\n",
    "\n",
    "print('Features shape:', X.shape)\n",
    "print('Labels shape:', y.shape, ',', n_classes, 'different classes')"
   ]
  },
  {
   "cell_type": "code",
   "execution_count": 5,
   "metadata": {
    "collapsed": true
   },
   "outputs": [],
   "source": [
    "n_neighbors = np.array([5 * 1.25**i for i in range(17)]).astype(int)"
   ]
  },
  {
   "cell_type": "code",
   "execution_count": 6,
   "metadata": {
    "collapsed": false
   },
   "outputs": [
    {
     "name": "stdout",
     "output_type": "stream",
     "text": [
      "delta =  0.9 , c =  0.2 , err =  0.0666666666667\n",
      "0.0666666666667\n"
     ]
    }
   ],
   "source": [
    "mssa = MSSA(n_neighbors=n_neighbors)\n",
    "\n",
    "#for delta in np.arange(0.7, 0.96, 0.05):\n",
    "for delta in [0.9]:\n",
    "\n",
    "    # tune critical values\n",
    "    z = mssa.tune_critical_values(X[1:, :], X[0,:].reshape(-1), confidence=delta, n_classes=n_classes)\n",
    "    #print(z)\n",
    "\n",
    "    #for c in np.arange(0.5, 1.5, 0.1):\n",
    "    #for c in np.arange(0.1, 0.5, 0.1):\n",
    "    for c in [0.2]:\n",
    "        mssa_err = 0\n",
    "        knn_err = np.zeros(n_neighbors.shape)\n",
    "        for i in range(sample_size):\n",
    "\n",
    "            x_test = X[i, :].reshape(-1)\n",
    "            y_test = y[i]\n",
    "            X_train = np.delete(X, i, axis=0)\n",
    "            y_train = np.delete(y, i)\n",
    "\n",
    "            y_mssa, y_knn = mssa.predict(X_train, y_train, x_test, c * z)\n",
    "\n",
    "            mssa_err += 1./sample_size * (y_test != y_mssa)\n",
    "            knn_err += 1./sample_size * (y_test != y_knn)\n",
    "\n",
    "        print('delta = ', delta, ', c = ', c, ', err = ', mssa_err)\n",
    "print(np.min(knn_err))"
   ]
  },
  {
   "cell_type": "code",
   "execution_count": 7,
   "metadata": {
    "collapsed": false
   },
   "outputs": [
    {
     "data": {
      "image/png": "[encoded data removed]",
      "text/plain": [
       "<matplotlib.figure.Figure at 0x116a37c88>"
      ]
     },
     "metadata": {},
     "output_type": "display_data"
    }
   ],
   "source": [
    "plt.figure(figsize=(10,7))\n",
    "plt.plot(n_neighbors, knn_err, 'b--', label='$n_k$-NN estimates')\n",
    "plt.plot(n_neighbors, mssa_err * np.ones(n_neighbors.shape[0]), 'r-', label='MSSA estimate')\n",
    "#plt.plot(np.arange(n_neighbors.shape[0]), knn_err, 'b--', label='$n_k$-NN estimates')\n",
    "#plt.plot(np.arange(n_neighbors.shape[0]), mssa_err * np.ones(n_neighbors.shape[0]), 'r-', label='MSSA estimate')\n",
    "plt.ylabel('Misclassification error', fontsize=14)\n",
    "plt.xlabel('Number of neighbors', fontsize=14)\n",
    "#plt.xlabel('Index of the weighted nearest neighbor estimate', fontsize=14)\n",
    "plt.legend(loc=0, fontsize=12)\n",
    "plt.show()"
   ]
  },
  {
   "cell_type": "code",
   "execution_count": null,
   "metadata": {
    "collapsed": true
   },
   "outputs": [],
   "source": []
  }
 ],
 "metadata": {
  "kernelspec": {
   "display_name": "Python 3",
   "language": "python",
   "name": "python3"
  },
  "language_info": {
   "codemirror_mode": {
    "name": "ipython",
    "version": 3
   },
   "file_extension": ".py",
   "mimetype": "text/x-python",
   "name": "python",
   "nbconvert_exporter": "python",
   "pygments_lexer": "ipython3",
   "version": "3.6.0"
  }
 },
 "nbformat": 4,
 "nbformat_minor": 2
}
