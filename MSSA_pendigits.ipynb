{
 "cells": [
  {
   "cell_type": "code",
   "execution_count": 1,
   "metadata": {
    "collapsed": true
   },
   "outputs": [],
   "source": [
    "import numpy as np\n",
    "import matplotlib.pyplot as plt\n",
    "from mssa import MSSA\n",
    "import pandas as pd\n",
    "\n",
    "%matplotlib inline"
   ]
  },
  {
   "cell_type": "code",
   "execution_count": 2,
   "metadata": {
    "collapsed": true
   },
   "outputs": [],
   "source": [
    "np.random.seed(1)"
   ]
  },
  {
   "cell_type": "code",
   "execution_count": 3,
   "metadata": {
    "collapsed": true
   },
   "outputs": [],
   "source": [
    "gaussian = lambda x : np.exp(-0.5 * x**2)\n",
    "rectangular = lambda x : 1 * (x < 1 + 1e-6)\n",
    "epanechnikov = lambda x : np.maximum(1 - x**2, 0)\n",
    "epanechnikov_like = lambda x : (1 - 0.5 * x**2) * (x <=1 )"
   ]
  },
  {
   "cell_type": "code",
   "execution_count": 4,
   "metadata": {
    "collapsed": false
   },
   "outputs": [
    {
     "name": "stdout",
     "output_type": "stream",
     "text": [
      "Features shape: (7494, 16) (3498, 16)\n",
      "Labels shape: (7494,) (3498,) , 10 different classes\n"
     ]
    }
   ],
   "source": [
    "# Create a multiclass dataset\n",
    "data_train = pd.read_table('data/pendigits_train.txt', sep=',', header=None)\n",
    "data_test = pd.read_table('data/pendigits_test.txt', sep=',', header=None)\n",
    "data_test = data_test.sample(frac=1)\n",
    "\n",
    "X_train = data_train.iloc[:, :-1]\n",
    "X_train = np.array(X_train)\n",
    "X_test = data_test.iloc[:, :-1]\n",
    "X_test = np.array(X_test)\n",
    "\n",
    "y_train = data_train.iloc[:, -1]\n",
    "y_train = np.array(y_train)\n",
    "y_test = data_test.iloc[:, -1]\n",
    "y_test = np.array(y_test)\n",
    "\n",
    "sample_size = X_test.shape[0]\n",
    "# Define the number of classes\n",
    "classes = np.unique(y_test)\n",
    "n_classes = classes.shape[0]\n",
    "\n",
    "print('Features shape:', X_train.shape, X_test.shape)\n",
    "print('Labels shape:', y_train.shape, y_test.shape, ',', n_classes, 'different classes')"
   ]
  },
  {
   "cell_type": "code",
   "execution_count": 5,
   "metadata": {
    "collapsed": false
   },
   "outputs": [
    {
     "name": "stdout",
     "output_type": "stream",
     "text": [
      "[ 1  2  2  3  4  5  7  9 11 14]\n"
     ]
    }
   ],
   "source": [
    "n_neighbors = np.array([1.9 * 1.25**i for i in range(10)]).astype(int)\n",
    "print(n_neighbors)"
   ]
  },
  {
   "cell_type": "code",
   "execution_count": 6,
   "metadata": {
    "collapsed": false
   },
   "outputs": [
    {
     "name": "stdout",
     "output_type": "stream",
     "text": [
      "delta =  0.75 , c =  0.3 , err =  0.0220125786164\n",
      "0.0220125786164\n"
     ]
    }
   ],
   "source": [
    "mssa = MSSA(n_neighbors=n_neighbors, loc_kernel=rectangular)\n",
    "\n",
    "#for delta in np.arange(0.6, 0.96, 0.05):\n",
    "for delta in [0.75]:\n",
    "\n",
    "    # tune critical values\n",
    "    z = mssa.tune_critical_values(X_train, X_test[0, :].reshape(-1), n_classes, confidence=delta)\n",
    "    #print(z)\n",
    "\n",
    "    #for c in np.arange(0.1, 0.6, 0.1):\n",
    "    #for c in np.arange(0.8, 1.5, 0.1):\n",
    "    for c in [0.3]:\n",
    "        mssa_err = 0\n",
    "        knn_err = np.zeros(n_neighbors.shape)\n",
    "        for i in range(sample_size):\n",
    "\n",
    "            y_mssa, y_knn = mssa.predict(X_train, y_train, X_test[i, :].reshape(-1), c * z)\n",
    "            \n",
    "            mssa_err += 1./sample_size * (y_test[i] != y_mssa)\n",
    "            knn_err += 1./sample_size * (y_test[i] != y_knn)\n",
    "\n",
    "        print('delta = ', delta, ', c = ', c, ', err = ', mssa_err)\n",
    "print(np.min(knn_err))"
   ]
  },
  {
   "cell_type": "code",
   "execution_count": 7,
   "metadata": {
    "collapsed": false
   },
   "outputs": [
    {
     "data": {
      "image/png": "[encoded data removed]",
      "text/plain": [
       "<matplotlib.figure.Figure at 0x11050e908>"
      ]
     },
     "metadata": {},
     "output_type": "display_data"
    }
   ],
   "source": [
    "plt.figure(figsize=(10,7))\n",
    "plt.plot(n_neighbors, knn_err, 'b--', label='$n_k$-NN estimates')\n",
    "plt.plot(n_neighbors, mssa_err * np.ones(n_neighbors.shape[0]), 'r-', label='MSSA estimate')\n",
    "#plt.plot(np.arange(n_neighbors.shape[0]), knn_err, 'b--', label='$n_k$-NN estimates')\n",
    "#plt.plot(np.arange(n_neighbors.shape[0]), mssa_err * np.ones(n_neighbors.shape[0]), 'r-', label='MSSA estimate')\n",
    "plt.ylabel('Misclassification error', fontsize=14)\n",
    "plt.xlabel('Number of neighbors', fontsize=14)\n",
    "#plt.xlabel('Index of the weighted nearest neighbor estimate', fontsize=14)\n",
    "plt.legend(loc=0, fontsize=12)\n",
    "plt.show()"
   ]
  },
  {
   "cell_type": "code",
   "execution_count": null,
   "metadata": {
    "collapsed": true
   },
   "outputs": [],
   "source": []
  }
 ],
 "metadata": {
  "kernelspec": {
   "display_name": "Python 3",
   "language": "python",
   "name": "python3"
  },
  "language_info": {
   "codemirror_mode": {
    "name": "ipython",
    "version": 3
   },
   "file_extension": ".py",
   "mimetype": "text/x-python",
   "name": "python",
   "nbconvert_exporter": "python",
   "pygments_lexer": "ipython3",
   "version": "3.6.0"
  }
 },
 "nbformat": 4,
 "nbformat_minor": 2
}
